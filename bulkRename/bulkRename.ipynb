{
 "cells": [
  {
   "cell_type": "markdown",
   "metadata": {},
   "source": [
    "## Imports"
   ]
  },
  {
   "cell_type": "code",
   "execution_count": 51,
   "metadata": {},
   "outputs": [],
   "source": [
    "import os\n",
    "import sys"
   ]
  },
  {
   "cell_type": "markdown",
   "metadata": {},
   "source": [
    "## Class containing functions to read config files and rename files"
   ]
  },
  {
   "cell_type": "code",
   "execution_count": 52,
   "metadata": {},
   "outputs": [],
   "source": [
    "class renameFiles:\n",
    "    def __init__(self):\n",
    "        self.INPUT_PATH = \"\"\n",
    "        self.PREFIX = \"\"\n",
    "        self.EXT = \"\"\n",
    "        self.START_INDEX = \"\"\n",
    "        self.OUTPUT_PATH = \"\"\n",
    "        self.PADDING = \"\"\n",
    "        self.currentPath = os.getcwd()\n",
    "    \n",
    "    def getIP(self):\n",
    "        cfgFile = \"inputs.cfg\"\n",
    "        with open(cfgFile, 'r') as inFile:\n",
    "            self.params = inFile.readlines()\n",
    "        inFile.close()\n",
    "        paramIDs = ['PATH', 'PREFIX', 'EXT', 'START_INDEX', 'OUTPUT_PATH', \"PADDING\"]\n",
    "        paramVals = [\"\", \"\", \"\", \"\", \"\", \"\"]\n",
    "        for item in self.params:\n",
    "            item = item.rstrip(\"\\n\")\n",
    "            item = item.replace(\" \", \"\")\n",
    "            item = item.split(\"=\")\n",
    "            ind = paramIDs.index(item[0])\n",
    "            paramVals[ind] = item[1]\n",
    "        \n",
    "        self.INPUT_PATH = os.path.abspath(paramVals[0])\n",
    "        self.PREFIX = paramVals[1]\n",
    "        self.EXT = paramVals[2]\n",
    "        self.START_INDEX = int(paramVals[3])\n",
    "        if paramVals[4] == \"\":\n",
    "            self.OUTPUT_PATH = self.INPUT_PATH\n",
    "        else:\n",
    "            self.OUTPUT_PATH = os.path.abspath(paramVals[4])\n",
    "        self.PADDING = int(paramVals[5])\n",
    "    \n",
    "        if not os.path.isdir(self.INPUT_PATH):\n",
    "            print(\"Input Path does not exist! Please check the path in the config file\")\n",
    "            sys.exit(0)\n",
    "        if not os.path.isdir(self.OUTPUT_PATH):\n",
    "            os.makedirs(self.OUTPUT_PATH)\n",
    "        \n",
    "        self.files = os.listdir(self.INPUT_PATH)\n",
    "        if len(self.files) == 0:\n",
    "            print(\"Input Directory is empty! No files to rename\")\n",
    "            sys.exit(0)\n",
    "        \n",
    "        if self.EXT == \"\\\"\\\"\":\n",
    "            self.EXT = '.' + self.files[0].split('.')[1]\n",
    "    \n",
    "    def fileRename(self):\n",
    "        for i in range(0, len(self.files)):\n",
    "            currentName = os.path.join(self.INPUT_PATH, self.files[i])\n",
    "            newName = self.PREFIX + str(i + self.START_INDEX).zfill(self.PADDING) + self.EXT\n",
    "            newName = os.path.join(self.OUTPUT_PATH, newName)\n",
    "            os.rename(currentName, newName)\n",
    "            "
   ]
  },
  {
   "cell_type": "markdown",
   "metadata": {},
   "source": [
    "## Main function"
   ]
  },
  {
   "cell_type": "code",
   "execution_count": 53,
   "metadata": {},
   "outputs": [],
   "source": [
    "def main():\n",
    "    rf = renameFiles()\n",
    "    rf.getIP()\n",
    "    rf.fileRename()"
   ]
  },
  {
   "cell_type": "code",
   "execution_count": 54,
   "metadata": {},
   "outputs": [],
   "source": [
    "if __name__ == \"__main__\":\n",
    "    main()"
   ]
  }
 ],
 "metadata": {
  "kernelspec": {
   "display_name": "Python 3",
   "language": "python",
   "name": "python3"
  },
  "language_info": {
   "codemirror_mode": {
    "name": "ipython",
    "version": 3
   },
   "file_extension": ".py",
   "mimetype": "text/x-python",
   "name": "python",
   "nbconvert_exporter": "python",
   "pygments_lexer": "ipython3",
   "version": "3.8.3"
  }
 },
 "nbformat": 4,
 "nbformat_minor": 4
}
